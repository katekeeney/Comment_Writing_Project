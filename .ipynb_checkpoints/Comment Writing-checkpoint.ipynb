{
 "cells": [
  {
   "cell_type": "code",
   "execution_count": 12,
   "metadata": {},
   "outputs": [
    {
     "name": "stdout",
     "output_type": "stream",
     "text": [
      "['Billy', 'M', '5', '94', '96', '5', '5', '5', '5', '4', 'Terminology', '96', '95', 'Engaging', 'No', 'Maybe', '', '']\n",
      "['Sally', 'F', '3', '84', '89', '4', '4', '2', '3', '5', 'Formulas', '87', '85', 'Hard-working', 'Yes', 'Yes', '', '']\n",
      "['Jim', 'M', '2', '72', '79', '2', '2', '1', '2', '5', 'Formulas', '74', '76', 'Lazy', 'Yes', 'Yes', '', '']\n",
      "Jim scored a 79 on the last unit exam. This was a decent performance for Jim, but I recommend M review and understand M mistakes before moving on to the next unit.\n",
      "Jim would benefit greatly from finding time to meet with me outside of class. I also strongly urge Jim to spend more time studying on M own time so that M is better prepared for exams.\n",
      "Jim's overall assessment grade for the semester is a 76. One of these assessments was the challenging midterm exam which serves as a mock AP. Jim scored a 72 on the midterm. Overall, Jim has struggled with AP Stats this semester with a 74 overall in the class. But with a bit more focus next semester I am sure Jim can improve this grade.\n"
     ]
    }
   ],
   "source": [
    "import csv\n",
    "\n",
    "\n",
    "with open('Student_info.csv') as students:\n",
    "    data = csv.reader(students, delimiter=',')\n",
    "    next(data, None)\n",
    "    for row in data:\n",
    "        print(row)\n",
    "        name = row[0]\n",
    "        pronoun = row[1]\n",
    "        score_on_last_test = int(row[4])\n",
    "        meeting = row[14]\n",
    "        studying = row[15]\n",
    "        other = row[16]\n",
    "        overall_grade = int(row[11])\n",
    "        overall_assessment_grade = int(row[12])\n",
    "        score_on_final = int(row[3])\n",
    "\n",
    "def recent_work(score_on_last_test):\n",
    "    if score_on_last_test >= 94:\n",
    "        return('{} scored a {} on the last unit exam. This was an excellent performance for {} and a great way to end the semester!'.format(name,score_on_last_test,name))\n",
    "    if 85 <= score_on_last_test <= 93:\n",
    "        return('{} scored a {} on the last unit exam. This was a solid performance for {} and I have no doubt that {} will learn from {} mistakes to improve on the next exam.'.format(name,score_on_last_test,name,pronoun,pronoun))\n",
    "    if 79 <= score_on_last_test < 85:\n",
    "        return('{} scored a {} on the last unit exam. This was a decent performance for {}, but I recommend {} review and understand {} mistakes before moving on to the next unit.'.format(name,score_on_last_test,name,pronoun,pronoun))\n",
    "    if 70 <= score_on_last_test < 79:\n",
    "        return(\"{} scored a {} on the last unit exam. This was not {}'s best perfomance. I recommend {} come meet with me to solidify {} understanding of this unit.\".format(name,score_on_last_test,name,pronoun,pronoun))\n",
    "    if score_on_last_test < 70:\n",
    "        return('{} scored a {} on the last unit exam. {} did not perform well on this test. I strongly recommend {} make time to meet with me to review this unit before moving on to the next unit.'.format(name,score_on_last_test,name,pronoun))\n",
    "\n",
    "\n",
    "\n",
    "def recommendations(meeting,studying,other):\n",
    "    if meeting == 'Yes' and studying == 'Yes':\n",
    "        return('{} would benefit greatly from finding time to meet with me outside of class. I also strongly urge {} to spend more time studying on {} own time so that {} is better prepared for exams.'.format(name,name,pronoun,pronoun))\n",
    "    if meeting == 'Yes' and studying == 'Maybe':\n",
    "        return('{} would benefit greatly from finding time to meet with me outside of class. While not essential, I think {} could benefit from spending a little bit more time reviewing the material on {} own time before exams.' .format(name,name,pronoun))\n",
    "    if meeting == 'Yes' and studying == 'No':\n",
    "        return('{} would benefit greatly from finding time to meet with me outside of class.'.format(name))\n",
    "    if meeting == 'No' and studying == 'Yes':\n",
    "        return('I strongly urge {} to spend more time studying on {} own time so that {} is better prepared for exams.'.format(name,pronoun,pronoun))\n",
    "    if meeting == 'No' and studying == 'Maybe':\n",
    "        return('While not essential, I think {} could benefit from spending a little bit more time reviewing the material on {} own time before exams.'.format(name, pronoun))\n",
    "    if meeting == 'No' and studying == 'No':\n",
    "        return('{} study habits were superb this semester and I urger {} to keep them up next semester!'.format(name,pronoun))\n",
    "\n",
    "\n",
    "def overall_grades(overall_grade,overall_assessment_grade,score_on_final):\n",
    "    if overall_grade >= 93:\n",
    "        return(\"{}'s overall assessment grade for the semester is a {}. One of these assessments was the challenging midterm exam which serves as a mock AP. {} scored a {} on the midterm. Overall, {} is excelling in AP Stats with a {} overall in the class. I look forward to {} continued success next semester!\".format(name,overall_assessment_grade,name,score_on_final,name,overall_grade,pronoun))\n",
    "    if 85 <= overall_grade <= 92:\n",
    "        return(\"{}'s overall assessment grade for the semester is a {}. One of these assessments was the challenging midterm exam which serves as a mock AP. {} scored a {} on the midterm. Overall, {} is doing very well in AP Stats with a {} overall in the class. I look forward to {} continued success next semester!\".format(name,overall_assessment_grade,name,score_on_final,name,overall_grade,pronoun))\n",
    "    if 79 <= overall_grade <=84:\n",
    "        return(\"{}'s overall assessment grade for the semester is a {}. One of these assessments was the challenging midterm exam which serves as a mock AP. {} scored a {} on the midterm. Overall, {} is doing well in AP Stats with a {} overall in the class. With a bit more focus, I think {} will be even more successful next semester!\".format(name,overall_assessment_grade,name,score_on_final,name,overall_grade,pronoun))\n",
    "    if 70 <= overall_grade <=78:\n",
    "        return(\"{}'s overall assessment grade for the semester is a {}. One of these assessments was the challenging midterm exam which serves as a mock AP. {} scored a {} on the midterm. Overall, {} has struggled with AP Stats this semester with a {} overall in the class. But with a bit more focus next semester I am sure {} can improve this grade.\".format(name,overall_assessment_grade,name,score_on_final,name,overall_grade,name))\n",
    "    if overall_grade < 70:\n",
    "        return(\"{}'s overall assessment grade for the semester is a {}. One of these assessments was the challenging midterm exam which serves as a mock AP. {} scored a {} on the midterm. Overall, {} has had a difficult time with AP Stats this semester with a {} overall in the class. I hope that {} will make the time to meet with me to improve {} understanding next semester.\".format(name,overall_assessment_grade,name,score_on_final,name,overall_grade,name,pronoun))\n",
    "    \n",
    "\n",
    "with open('Student_info.csv') as students:\n",
    "        print(recent_work(score_on_last_test))\n",
    "        print(recommendations(meeting,studying,other))\n",
    "        print(overall_grades(overall_grade,overall_assessment_grade,score_on_final))   "
   ]
  },
  {
   "cell_type": "code",
   "execution_count": null,
   "metadata": {
    "collapsed": true
   },
   "outputs": [],
   "source": []
  },
  {
   "cell_type": "code",
   "execution_count": null,
   "metadata": {
    "collapsed": true
   },
   "outputs": [],
   "source": []
  }
 ],
 "metadata": {
  "kernelspec": {
   "display_name": "Python 3",
   "language": "python",
   "name": "python3"
  },
  "language_info": {
   "codemirror_mode": {
    "name": "ipython",
    "version": 3
   },
   "file_extension": ".py",
   "mimetype": "text/x-python",
   "name": "python",
   "nbconvert_exporter": "python",
   "pygments_lexer": "ipython3",
   "version": "3.6.1"
  }
 },
 "nbformat": 4,
 "nbformat_minor": 1
}
